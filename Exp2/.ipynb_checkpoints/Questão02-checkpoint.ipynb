{
 "cells": [
  {
   "cell_type": "markdown",
   "metadata": {
    "id": "F0IXjodZCJxq"
   },
   "source": [
    "# **Questão 2 do Projeto de Aprendizagem de Máquina**\n",
    "\n",
    "Considere novamente os dados \"banknote authentication Data Set\".\n",
    "\n",
    "a) Use validação cruzada estratificada “10-folds” para avaliar e comparar os classificadores combinados descritos abaixo. Quando necessario, retire do conjunto de aprendizagem, um conjunto de validação (20%) para fazer ajuste de parametros e depois treine o modelo novamente com os conjuntos aprendizagem + validação. Use amostragem estratificada;\n",
    "\n",
    "b) Obtenha uma estimativa pontual e um intervalo de confiança para cada métrica de avaliação do classificador (Taxa de erro, precisão, cobertura, F-measure);\n",
    "\n",
    "c) Usar o Friedman test (teste não parametrico) para comparar os classificadores;"
   ]
  },
  {
   "cell_type": "markdown",
   "metadata": {
    "id": "BMFSfwib60us"
   },
   "source": [
    "## Importando bibliotecas e carregando os dados:"
   ]
  },
  {
   "cell_type": "code",
   "execution_count": 2,
   "metadata": {
    "id": "sPZBhi_Yh8RL"
   },
   "outputs": [],
   "source": [
    "import pandas as pd\n",
    "import numpy as np\n",
    "import matplotlib.pyplot as plt\n",
    "from math import sqrt\n",
    "from sklearn.preprocessing import MinMaxScaler\n",
    "from sklearn.impute import SimpleImputer\n",
    "from sklearn.model_selection import StratifiedKFold\n",
    "from sklearn.model_selection import cross_validate #Este usa stratified KFold quando o parâmetro cv é int (nosso caso).\n",
    "from sklearn.naive_bayes import GaussianNB\n",
    "from sklearn.linear_model import LogisticRegression\n",
    "from scipy.stats import norm \n",
    "import math\n",
    "from scipy import mean\n",
    "from sklearn.model_selection import train_test_split\n",
    "from sklearn import metrics\n",
    "from scipy.stats import multivariate_normal\n",
    "from sklearn.model_selection import GridSearchCV\n",
    "from sklearn.neighbors import KernelDensity\n",
    "from sklearn.model_selection import train_test_split\n",
    "from sklearn.neighbors import KNeighborsClassifier\n",
    "from sklearn.model_selection import GridSearchCV\n",
    "from sklearn.metrics import accuracy_score\n",
    "from sklearn.metrics import f1_score\n",
    "from sklearn.metrics import precision_score\n",
    "from sklearn.metrics import recall_score\n",
    "from sklearn.metrics import mean_squared_error\n",
    "from sklearn.metrics import make_scorer\n",
    "from sklearn.model_selection import cross_val_score\n",
    "import seaborn as sns\n",
    "from sklearn.base import BaseEstimator, ClassifierMixin"
   ]
  },
  {
   "cell_type": "code",
   "execution_count": 3,
   "metadata": {
    "id": "FM19JKGAmGtD"
   },
   "outputs": [],
   "source": [
    "cols = ['x1','x2', 'x3', 'x4', 'class']\n",
    "df = pd.read_csv(\"https://archive.ics.uci.edu/ml/machine-learning-databases/00267/data_banknote_authentication.txt\", header=None, names=cols)\n",
    "                         "
   ]
  },
  {
   "cell_type": "code",
   "execution_count": 4,
   "metadata": {
    "colab": {
     "base_uri": "https://localhost:8080/",
     "height": 191
    },
    "id": "APQvHjV-nZ35",
    "outputId": "7cd6cf61-b740-447c-a383-b7dc7f211962"
   },
   "outputs": [
    {
     "data": {
      "text/html": [
       "<div>\n",
       "<style scoped>\n",
       "    .dataframe tbody tr th:only-of-type {\n",
       "        vertical-align: middle;\n",
       "    }\n",
       "\n",
       "    .dataframe tbody tr th {\n",
       "        vertical-align: top;\n",
       "    }\n",
       "\n",
       "    .dataframe thead th {\n",
       "        text-align: right;\n",
       "    }\n",
       "</style>\n",
       "<table border=\"1\" class=\"dataframe\">\n",
       "  <thead>\n",
       "    <tr style=\"text-align: right;\">\n",
       "      <th></th>\n",
       "      <th>x1</th>\n",
       "      <th>x2</th>\n",
       "      <th>x3</th>\n",
       "      <th>x4</th>\n",
       "      <th>class</th>\n",
       "    </tr>\n",
       "  </thead>\n",
       "  <tbody>\n",
       "    <tr>\n",
       "      <th>0</th>\n",
       "      <td>3.62160</td>\n",
       "      <td>8.6661</td>\n",
       "      <td>-2.8073</td>\n",
       "      <td>-0.44699</td>\n",
       "      <td>0</td>\n",
       "    </tr>\n",
       "    <tr>\n",
       "      <th>1</th>\n",
       "      <td>4.54590</td>\n",
       "      <td>8.1674</td>\n",
       "      <td>-2.4586</td>\n",
       "      <td>-1.46210</td>\n",
       "      <td>0</td>\n",
       "    </tr>\n",
       "    <tr>\n",
       "      <th>2</th>\n",
       "      <td>3.86600</td>\n",
       "      <td>-2.6383</td>\n",
       "      <td>1.9242</td>\n",
       "      <td>0.10645</td>\n",
       "      <td>0</td>\n",
       "    </tr>\n",
       "    <tr>\n",
       "      <th>3</th>\n",
       "      <td>3.45660</td>\n",
       "      <td>9.5228</td>\n",
       "      <td>-4.0112</td>\n",
       "      <td>-3.59440</td>\n",
       "      <td>0</td>\n",
       "    </tr>\n",
       "    <tr>\n",
       "      <th>4</th>\n",
       "      <td>0.32924</td>\n",
       "      <td>-4.4552</td>\n",
       "      <td>4.5718</td>\n",
       "      <td>-0.98880</td>\n",
       "      <td>0</td>\n",
       "    </tr>\n",
       "  </tbody>\n",
       "</table>\n",
       "</div>"
      ],
      "text/plain": [
       "        x1      x2      x3       x4  class\n",
       "0  3.62160  8.6661 -2.8073 -0.44699      0\n",
       "1  4.54590  8.1674 -2.4586 -1.46210      0\n",
       "2  3.86600 -2.6383  1.9242  0.10645      0\n",
       "3  3.45660  9.5228 -4.0112 -3.59440      0\n",
       "4  0.32924 -4.4552  4.5718 -0.98880      0"
      ]
     },
     "execution_count": 4,
     "metadata": {},
     "output_type": "execute_result"
    }
   ],
   "source": [
    "df.head()"
   ]
  },
  {
   "cell_type": "markdown",
   "metadata": {
    "id": "2x1OM3x46_3s"
   },
   "source": [
    "## Pré-processamento"
   ]
  },
  {
   "cell_type": "code",
   "execution_count": 5,
   "metadata": {
    "id": "vjTJRPcU7EQn"
   },
   "outputs": [],
   "source": [
    "# Normalização usando o MinMax\n",
    "scaler = MinMaxScaler(feature_range=(0.00001, 1.00001))\n",
    "df[['x1','x2', 'x3', 'x4']] = scaler.fit_transform(df[['x1','x2', 'x3', 'x4']])\n",
    "\n",
    "# Imputando média em lugar de valores faltantes (se houver):\n",
    "imp_mean = SimpleImputer(missing_values=np.nan, strategy='mean')\n",
    "df[['x1','x2','x3','x4']] = imp_mean.fit_transform(df[['x1','x2','x3','x4']])"
   ]
  },
  {
   "cell_type": "markdown",
   "metadata": {
    "id": "rbpRy565JIfj"
   },
   "source": [
    "### Separando X e y:"
   ]
  },
  {
   "cell_type": "code",
   "execution_count": 6,
   "metadata": {
    "id": "tMIlt1UDJWvM"
   },
   "outputs": [],
   "source": [
    "X = df[df.columns[:-1]]\n",
    "y = df[df.columns[[-1]]]"
   ]
  },
  {
   "cell_type": "markdown",
   "metadata": {
    "id": "wa9HFVjzXQL8"
   },
   "source": [
    "##Analise Exploratoria dos Dados"
   ]
  },
  {
   "cell_type": "code",
   "execution_count": 7,
   "metadata": {
    "colab": {
     "base_uri": "https://localhost:8080/"
    },
    "id": "X7tRltS1VZPG",
    "outputId": "21ee3f9e-5707-432b-86e3-5833ee73e3f5"
   },
   "outputs": [
    {
     "data": {
      "text/plain": [
       "x1       float64\n",
       "x2       float64\n",
       "x3       float64\n",
       "x4       float64\n",
       "class      int64\n",
       "dtype: object"
      ]
     },
     "execution_count": 7,
     "metadata": {},
     "output_type": "execute_result"
    }
   ],
   "source": [
    "# Verificar tipos de dados\n",
    "df.dtypes"
   ]
  },
  {
   "cell_type": "code",
   "execution_count": 8,
   "metadata": {
    "colab": {
     "base_uri": "https://localhost:8080/"
    },
    "id": "d7UYEcypXnkE",
    "outputId": "cbd95fd2-acc8-4aa2-e058-6886462c1cd2"
   },
   "outputs": [
    {
     "name": "stdout",
     "output_type": "stream",
     "text": [
      "<class 'pandas.core.frame.DataFrame'>\n",
      "RangeIndex: 1372 entries, 0 to 1371\n",
      "Data columns (total 5 columns):\n",
      " #   Column  Non-Null Count  Dtype  \n",
      "---  ------  --------------  -----  \n",
      " 0   x1      1372 non-null   float64\n",
      " 1   x2      1372 non-null   float64\n",
      " 2   x3      1372 non-null   float64\n",
      " 3   x4      1372 non-null   float64\n",
      " 4   class   1372 non-null   int64  \n",
      "dtypes: float64(4), int64(1)\n",
      "memory usage: 53.7 KB\n"
     ]
    }
   ],
   "source": [
    "# Verificar valores nulos\n",
    "df.info()"
   ]
  },
  {
   "cell_type": "code",
   "execution_count": 9,
   "metadata": {
    "colab": {
     "base_uri": "https://localhost:8080/"
    },
    "id": "PmWMu2JIXzQk",
    "outputId": "069aa15a-d92a-4ae3-baab-93ffac847ff5"
   },
   "outputs": [
    {
     "data": {
      "text/plain": [
       "x1       0\n",
       "x2       0\n",
       "x3       0\n",
       "x4       0\n",
       "class    0\n",
       "dtype: int64"
      ]
     },
     "execution_count": 9,
     "metadata": {},
     "output_type": "execute_result"
    }
   ],
   "source": [
    "pd.options.mode.use_inf_as_na = True\n",
    "df.isnull().sum()"
   ]
  },
  {
   "cell_type": "code",
   "execution_count": 10,
   "metadata": {
    "colab": {
     "base_uri": "https://localhost:8080/",
     "height": 487
    },
    "id": "Tr8RGksdt3K8",
    "outputId": "41106872-d3af-4044-ccf6-607c5ccf7b75"
   },
   "outputs": [
    {
     "data": {
      "image/png": "[encoded data removed]",
      "text/plain": [
       "<Figure size 576x576 with 2 Axes>"
      ]
     },
     "metadata": {
      "needs_background": "light"
     },
     "output_type": "display_data"
    }
   ],
   "source": [
    "# Verificar correlaçao entre cada variavel dentro de um Mapa de Calor:\n",
    "from seaborn import heatmap\n",
    "fig, ax = plt.subplots(figsize=(8, 8))\n",
    "ax = heatmap(\n",
    "    df.corr(),\n",
    "    fmt=\".2f\",\n",
    "    annot=True,\n",
    "    ax=ax,\n",
    "    cmap=\"RdBu_r\",\n",
    "    vmin=-1,\n",
    "    vmax=1,\n",
    ")"
   ]
  },
  {
   "cell_type": "code",
   "execution_count": 11,
   "metadata": {
    "id": "x30_q-XLfJMF"
   },
   "outputs": [],
   "source": [
    "#Correlação dos dados-Matriz de Dispersão\n",
    "#from pandas.plotting import scatter_matrix\n",
    "\n",
    "#attributes=[\"x1\", \"x2\", \"x3\", \"x4\"]\n",
    "\n",
    "#scatter_matrix(df[attributes], figsize=(12,8))\n",
    "#verificar por meiod e pearson correlação entre duas colunas\n",
    "#X.x1.corr(X.x4)"
   ]
  },
  {
   "cell_type": "code",
   "execution_count": 12,
   "metadata": {
    "id": "Qp40ZEZfNE7-"
   },
   "outputs": [],
   "source": [
    "def calculate_metrics(cv_results):\n",
    "  test_error_rate = np.ones(10)-cv_results['test_accuracy']  # error_rate = 1 - accuracy\n",
    "  error_mean = np.mean(test_error_rate)\n",
    "  error_std = np.std(test_error_rate)\n",
    "  precision_mean = np.mean(cv_results['test_precision'])\n",
    "  precision_std = np.std(cv_results['test_precision'])\n",
    "  recall_mean = np.mean(cv_results['test_recall'])\n",
    "  recall_std = np.std(cv_results['test_recall'])\n",
    "  f1_mean = np.mean(cv_results['test_f1'])\n",
    "  f1_std = np.std(cv_results['test_f1'])\n",
    "\n",
    "  z_critical = norm.ppf(0.95) #valor crítico Z para intervalo de confiança de 95%\n",
    "  pop_size = X.shape[0]\n",
    "\n",
    "  # Dicionário para armazenar as métricas: \n",
    "  results = {'error_rate':None, 'precision':None, 'recall':None, 'f1':None}\n",
    "\n",
    "  error_margin = z_critical * (error_std/sqrt(pop_size))\n",
    "  error_conf_interv = (error_mean - error_margin, error_mean + error_margin)\n",
    "  results['error_rate'] = {'mean':error_mean, 'conf_interv':error_conf_interv}\n",
    "\n",
    "  precision_margin = z_critical * (precision_std/sqrt(pop_size))\n",
    "  precision_conf_interv = (precision_mean - precision_margin, precision_mean + precision_margin)\n",
    "  results['precision'] = {'mean':precision_mean, 'conf_interv':precision_conf_interv}\n",
    "  \n",
    "  recall_margin = z_critical * (recall_std/sqrt(pop_size))\n",
    "  recall_conf_interv = (recall_mean - recall_margin, recall_mean + recall_margin)\n",
    "  results['recall'] = {'mean':recall_mean, 'conf_interv':recall_conf_interv}\n",
    "\n",
    "  f1_margin = z_critical * (f1_std/sqrt(pop_size))\n",
    "  f1_conf_interv = (f1_mean - f1_margin, f1_mean + f1_margin)\n",
    "  results['f1'] = {'mean':f1_mean, 'conf_interv':f1_conf_interv}\n",
    "\n",
    "  return results"
   ]
  },
  {
   "cell_type": "markdown",
   "metadata": {
    "id": "XsSFV7x5DXlO"
   },
   "source": [
    "## Item i) Classificador bayesiano gaussiano\n"
   ]
  },
  {
   "cell_type": "code",
   "execution_count": 13,
   "metadata": {
    "id": "dWuG0Nppq1o_"
   },
   "outputs": [],
   "source": [
    "class BayesClassifier(BaseEstimator, ClassifierMixin):\n",
    "    mu = None\n",
    "    cov = None\n",
    "    n_classes = None\n",
    "    \n",
    "#calculo da probabilidade prior\n",
    "    def _calculate_prior(self, c):\n",
    "    #(número de exemplos da classe dividido pelo número total de exemplos. \n",
    "    #Amostras da classe == c / numero total de amostras)\"\"\"\n",
    "        frequency = np.mean(self.y == c) ######Porque a média? porque divide pelo numero total de exemplos\n",
    "        return frequency \n",
    "\n",
    "    def pred(self,x):\n",
    "        posterior = np.zeros(self.n_classes)        \n",
    "        for i in range(self.n_classes):\n",
    "            #função de densidade=normal multivariada     \n",
    "            mnormal = multivariate_normal(mean=self.mu[i], cov=self.cov[i])  #usa a normal multivariada        \n",
    "            prior = self._calculate_prior(i)           \n",
    "            posterior[i] = prior*mnormal.pdf(x) #densidade vezes a prior, para estimar a posterior\n",
    "            sumatory = 0.\n",
    "            for j in range(self.n_classes):\n",
    "                mnormal = multivariate_normal(mean=self.mu[j], cov=self.cov[j])\n",
    "                sumatory += prior*mnormal.pdf(x)\n",
    "            posterior[i] = posterior[i]/sumatory\n",
    "        return np.argmax(posterior)  #retorna a probabilidade posterior máxima\n",
    "\n",
    "#calcula o vetor de médias e a matriz de covariancia para cada classe          \n",
    "    def fit(self, X,y):\n",
    "        self.n_classes = len(np.unique(y))\n",
    "        if not isinstance(X, np.ndarray): self.X, self.y = X.to_numpy(), y\n",
    "        else: self.X, self.y = X, y\n",
    "        self.mu = [] #corresponde a variavel do vetor de médias\n",
    "        self.cov = [] #corresponde a variavel da matriz sigma diagonal      \n",
    "\n",
    "        for i in range(self.n_classes):\n",
    "            Xc = self.X[self.y==i]#separando os valores para cada classe\n",
    "            mu_c = np.mean(Xc, axis=0) #calcula o vetor médio dos valores para cada classe\n",
    "            self.mu.append(mu_c)\n",
    "            cov_c = np.zeros((X.shape[1], X.shape[1]))\n",
    "            for j in range(Xc.shape[1]):\n",
    "                var = np.var(Xc[:,[j]].reshape((1,Xc.shape[0])))\n",
    "                cov_c[j][j] = var          \n",
    "                cov = cov_c\n",
    "                self.cov.append(cov_c)\n",
    "            self.cov.append(cov_c)\n",
    "        self.mu = np.asarray(self.mu)\n",
    "        self.cov = np.asarray(self.cov)\n",
    "    def predict(self, X):\n",
    "        if not isinstance(X, np.ndarray): self.X = X.to_numpy()\n",
    "        else: self.X = X\n",
    "        y_pred = [self.pred(x) for x in self.X]\n",
    "        return np.array(y_pred)"
   ]
  },
  {
   "cell_type": "code",
   "execution_count": 14,
   "metadata": {
    "colab": {
     "base_uri": "https://localhost:8080/"
    },
    "id": "OQnPEV6OS7Ao",
    "outputId": "bcb17543-96de-4fe1-cd53-bec6ad941538"
   },
   "outputs": [
    {
     "data": {
      "text/plain": [
       "{'error_rate': {'mean': 0.1618216439225643,\n",
       "  'conf_interv': (0.16079489639895392, 0.16284839144617466)},\n",
       " 'precision': {'mean': 0.8205730125199941,\n",
       "  'conf_interv': (0.8194209594018245, 0.8217250656381638)},\n",
       " 'recall': {'mean': 0.8147540983606557,\n",
       "  'conf_interv': (0.8129109963162171, 0.8165972004050943)},\n",
       " 'f1': {'mean': 0.8171105205253039,\n",
       "  'conf_interv': (0.81587786929735, 0.8183431717532578)}}"
      ]
     },
     "execution_count": 14,
     "metadata": {},
     "output_type": "execute_result"
    }
   ],
   "source": [
    "gbc = BayesClassifier()\n",
    "cv_results_gbc = cross_validate(gbc, X, y.values.ravel(), cv = 10, scoring=('accuracy', 'precision', 'recall', 'f1'))\n",
    "metrics_gbc = calculate_metrics(cv_results_gbc)\n",
    "metrics_gbc\n"
   ]
  },
  {
   "cell_type": "markdown",
   "metadata": {
    "id": "N2LKMljIxbOz"
   },
   "source": [
    "## Item ii) Classificador bayesiano baseados em k-vizinhos:\n",
    "\n",
    "Treine um classificador bayesiano baseado em k-vizinhos. Normalize os dados e use a distância Euclidiana para definir a vizinhança. Use conjunto de validação para fixar o o número de vizinhos k."
   ]
  },
  {
   "cell_type": "code",
   "execution_count": 15,
   "metadata": {
    "id": "xerK9eKda4Cw"
   },
   "outputs": [],
   "source": [
    "#Divisão do conjunto em treino e teste\n",
    "train_val_x, test_x, train_val_y, test_y = train_test_split(X,y)\n",
    "#20% para validação da parte do conjunto de treino\n",
    "train_x, val_x, train_y, val_y = train_test_split(train_val_x, train_val_y, test_size=0.2)"
   ]
  },
  {
   "cell_type": "code",
   "execution_count": 16,
   "metadata": {
    "colab": {
     "base_uri": "https://localhost:8080/",
     "height": 492
    },
    "id": "UziWse89jibk",
    "outputId": "5f5f3b3b-a756-49d5-e1a8-eda7ebe029d3"
   },
   "outputs": [
    {
     "name": "stdout",
     "output_type": "stream",
     "text": [
      "GridSearchCV(cv=10, estimator=KNeighborsClassifier(weights='distance'),\n",
      "             param_grid={'metric': ['euclidean'],\n",
      "                         'n_neighbors': array([ 1,  2,  3,  4,  5,  6,  7,  8,  9, 10, 11, 12, 13, 14, 15, 16, 17,\n",
      "       18, 19, 20, 21, 22, 23, 24, 25, 26, 27, 28, 29])})\n",
      "{'metric': 'euclidean', 'n_neighbors': 5}\n"
     ]
    },
    {
     "data": {
      "text/plain": [
       "[<matplotlib.lines.Line2D at 0x7ffad3937a00>]"
      ]
     },
     "execution_count": 16,
     "metadata": {},
     "output_type": "execute_result"
    },
    {
     "data": {
      "image/png": "[encoded data removed]",
      "text/plain": [
       "<Figure size 432x288 with 1 Axes>"
      ]
     },
     "metadata": {
      "needs_background": "light"
     },
     "output_type": "display_data"
    }
   ],
   "source": [
    "knn = KNeighborsClassifier(weights='distance')\n",
    "#lista para escolher o melhor k vizinho(entre 1 e 30)\n",
    "k_list=np.arange(1,30)\n",
    "#k_list = list(range(7,30))\n",
    "metric = ['euclidean']\n",
    "param_grid= dict(n_neighbors=k_list, metric=metric)\n",
    "#GridSearchCV, permite encontrar o melhor k da lista\n",
    "classifier = GridSearchCV(knn, param_grid, cv=10)\n",
    "print(classifier)\n",
    "#ajustando o hiperparametro no conjunto de validacao\n",
    "classifier.fit(val_x, val_y.values.ravel())\n",
    "#print(classifier)\n",
    "#print(classifier.best_estimator_)\n",
    "#encontrando o melhor k\n",
    "print(classifier.best_params_)\n",
    "best_n = classifier.best_params_['n_neighbors']\n",
    "plt.plot(classifier.cv_results_['param_n_neighbors'].data, classifier.cv_results_['mean_test_score'])"
   ]
  },
  {
   "cell_type": "code",
   "execution_count": 17,
   "metadata": {
    "colab": {
     "base_uri": "https://localhost:8080/"
    },
    "id": "SLZr9UROGKr_",
    "outputId": "d851c140-bfba-485e-8ab8-7b37cc99ddbb"
   },
   "outputs": [
    {
     "data": {
      "text/plain": [
       "{'error_rate': {'mean': 0.0014598540145985383,\n",
       "  'conf_interv': (0.0013301989083862279, 0.0015895091208108488)},\n",
       " 'precision': {'mean': 0.9967741935483871,\n",
       "  'conf_interv': (0.9964876975878858, 0.9970606895088885)},\n",
       " 'recall': {'mean': 1.0, 'conf_interv': (1.0, 1.0)},\n",
       " 'f1': {'mean': 0.9983739837398374,\n",
       "  'conf_interv': (0.9982295711418612, 0.9985183963378137)}}"
      ]
     },
     "execution_count": 17,
     "metadata": {},
     "output_type": "execute_result"
    }
   ],
   "source": [
    "knn = KNeighborsClassifier(n_neighbors=best_n, weights='distance', metric='euclidean')\n",
    "cv_results_knn = cross_validate(knn, X, y.values.ravel(), cv = 10, scoring=('accuracy', 'precision', 'recall', 'f1'))\n",
    "metrics_knn = calculate_metrics(cv_results_knn)\n",
    "metrics_knn"
   ]
  },
  {
   "cell_type": "code",
   "execution_count": 18,
   "metadata": {
    "colab": {
     "base_uri": "https://localhost:8080/"
    },
    "id": "HQt-YbVWR65u",
    "outputId": "c4e7e5b5-c094-462c-f89f-ffd88509c5cd"
   },
   "outputs": [
    {
     "data": {
      "text/plain": [
       "array([1.        , 1.        , 1.        , 1.        , 0.99270073,\n",
       "       1.        , 1.        , 1.        , 1.        , 0.99270073])"
      ]
     },
     "execution_count": 18,
     "metadata": {},
     "output_type": "execute_result"
    }
   ],
   "source": [
    "cv_results_knn['test_accuracy']"
   ]
  },
  {
   "cell_type": "markdown",
   "metadata": {
    "id": "cFLxWPRYtzeb"
   },
   "source": [
    "## Item iii) Classificador bayesiano baseado em janela de Parzen:\n",
    "\n",
    "Treine um classificador bayesiano baseado em janela de Parzen. Use a função de kernel multivariada produto com um mesmo h para todas as dimensões e a função de kernel Gaussiana unidimensional. Use conjunto de validação para fixar o parâmetro h."
   ]
  },
  {
   "cell_type": "code",
   "execution_count": 19,
   "metadata": {
    "id": "eU5lCpXY7IMM"
   },
   "outputs": [],
   "source": [
    "#NBParzem é a classe que conterá a implementação do classificador baysesiano baseado em janela de Parzem\n",
    "#Baseado nesse link:https://github.com/python-engineer/MLfromscratch/blob/master/mlfromscratch/naivebayes.py\n",
    "\n",
    "class NBParzem(BaseEstimator, ClassifierMixin):\n",
    "#h(tamanho da janela), hiperparametro    \n",
    "    def __init__(self, h=0.1):\n",
    "        self.h = h\n",
    "    def get_params(self, deep=True):\n",
    "        return {\"h\": self.h}\n",
    "    def set_params(self, **parameters):\n",
    "        for parameter, value in parameters.items():\n",
    "            setattr(self, parameter, value)\n",
    "        return self\n",
    "\n",
    "    def fit(self, X, y):\n",
    "        n_samples, n_features = X.shape #numero de amostra e de atributos\n",
    "        self._classes = np.unique(y)\n",
    "        self.X, self.y = X.to_numpy(), y\n",
    "        n_classes = len(self._classes)\n",
    "        self.n = n_samples\n",
    "\n",
    "        # calcula a media, variancia e a prior de cada classe\n",
    "        self._mean = np.zeros((n_classes, n_features), dtype=np.float64)\n",
    "        self._var = np.zeros((n_classes, n_features), dtype=np.float64)\n",
    "        self._priors =  np.zeros(n_classes, dtype=np.float64)\n",
    "\n",
    "        for idx, c in enumerate(self._classes):\n",
    "            X_c = self.X[self.y==c]\n",
    "            self._mean[idx, :] = X_c.mean(axis=0)\n",
    "            self._var[idx, :] = X_c.var(axis=0)\n",
    "            self._priors[idx] = X_c.shape[0] / float(n_samples)\n",
    "\n",
    "    def pred(self, x):\n",
    "        posteriors = []\n",
    "        #calcula media, variancia e a probabilidade prior\n",
    "        for idx, c in enumerate(self._classes):\n",
    "            prior = np.log(self._priors[idx])\n",
    "            posterior = np.sum(np.log(self.multivariateproduct(idx, x)))\n",
    "            posterior = prior + posterior\n",
    "            posteriors.append(posterior)           \n",
    "        # retorna a classe com maior probabilidade posteriori\n",
    "        return self._classes[np.argmax(posteriors)]\n",
    "    \n",
    "    #Estimador kernel - slide 17 da aula 26/11 que é a função kernel multivariada produto            \n",
    "    def multivariateproduct(self, class_idx, x):\n",
    "    #self.univariate_normal(class_idx, x) corresponde a função escolhida que é a normal univariada para densidade\n",
    "    #considerou-se a mesma função para todos os atributos      \n",
    "         p = (1/self.n) * (1/self.h) *  np.sum(np.prod(self.univariate_normal(class_idx, x)))\n",
    "         return p    \n",
    "    \n",
    "    #função de densidade em que calcula a média e variancia, corresponde ao naive bayes gaussiano. Seja uma distribuição gaussiana P(x). Os parâmetros média (µ) e a variância\n",
    "    #(σ2) especificam completamente esta distribuição normal unidimensional.\n",
    "    #regra no slide 12 da univariada\n",
    "    def univariate_normal(self, class_idx, x):\n",
    "        mean = self._mean[class_idx]\n",
    "        var = self._var[class_idx]\n",
    "        numerator = np.exp(- (x-mean)**2 / (2 * var))\n",
    "        denominator = np.sqrt(2 * np.pi * var)\n",
    "        return numerator / denominator\n",
    "    \n",
    "    #realiza a predição para amostras de teste\n",
    "    def predict(self, X):\n",
    "        if not isinstance(X, np.ndarray): self.X = X.to_numpy()\n",
    "        else: self.X = X\n",
    "        y_pred = [self.pred(x) for x in self.X]\n",
    "        return np.array(y_pred)\n"
   ]
  },
  {
   "cell_type": "code",
   "execution_count": 20,
   "metadata": {
    "colab": {
     "base_uri": "https://localhost:8080/"
    },
    "id": "99aGYkUWid_J",
    "outputId": "4546129f-10bc-45d7-dd1a-ee1a53529d79"
   },
   "outputs": [
    {
     "name": "stdout",
     "output_type": "stream",
     "text": [
      "{'bandwidth': 0.1}\n"
     ]
    }
   ],
   "source": [
    "nbparzem = NBParzem()\n",
    "train_val_x, test_x, train_val_y, test_y = train_test_split(X,y)\n",
    "#20% para validação da parte do conjunto de treino\n",
    "train_x, val_x, train_y, val_y = train_test_split(train_val_x, train_val_y, test_size=0.2)\n",
    "param_grid = [{'bandwidth': [0.1, 0.2, 0.3, 0.6, 10, 20, 30]}]\n",
    "#GridSearchCV, permite encontrar o melhor h da lista\n",
    "classifier = GridSearchCV(nbparzem, param_grid, cv=10)\n",
    "#ajustando o hiperparametro no conjunto de validacao\n",
    "classifier.fit(val_x, val_y.values.ravel())\n",
    "#print(classifier.best_estimator_)\n",
    "#encontrando o melhor h\n",
    "print(classifier.best_params_)\n",
    "best_bandwidth = classifier.best_params_['bandwidth']\n",
    "\n",
    "#plot\n",
    "\n",
    "results = classifier.cv_results_\n",
    "#print(results)\n",
    "#plt.plot(classifier.cv_results_['param_bandwidth'].data, classifier.cv_results_['mean_test_score'])\n"
   ]
  },
  {
   "cell_type": "code",
   "execution_count": 21,
   "metadata": {
    "colab": {
     "base_uri": "https://localhost:8080/"
    },
    "id": "inSI1kmWgwU8",
    "outputId": "802b02a5-2cb7-44ca-c108-95e3e8963fd1"
   },
   "outputs": [
    {
     "data": {
      "text/plain": [
       "{'error_rate': {'mean': 0.15892309319792658,\n",
       "  'conf_interv': (0.1572290477723239, 0.16061713862352925)},\n",
       " 'precision': {'mean': 0.8408442589082463,\n",
       "  'conf_interv': (0.839437241622732, 0.8422512761937606)},\n",
       " 'recall': {'mean': 0.7918032786885245,\n",
       "  'conf_interv': (0.7886125928224106, 0.7949939645546384)},\n",
       " 'f1': {'mean': 0.8144738174194778,\n",
       "  'conf_interv': (0.8122714409619941, 0.8166761938769614)}}"
      ]
     },
     "execution_count": 21,
     "metadata": {},
     "output_type": "execute_result"
    }
   ],
   "source": [
    "nbparzem = NBParzem(h=best_bandwidth)\n",
    "cv_results_nbparzem = cross_validate(nbparzem, X, y.values.ravel(), cv = 10, scoring=('accuracy', 'precision', 'recall', 'f1'))\n",
    "metrics_nbparzem = calculate_metrics(cv_results_nbparzem)\n",
    "metrics_nbparzem"
   ]
  },
  {
   "cell_type": "markdown",
   "metadata": {
    "id": "snrIuA8RuGMg"
   },
   "source": [
    "## Item iv) Classificador baseado regressão logísitica (v1):\n",
    "\n",
    "Treine um classificador baseado em regressão logistica com os 4 atributos numericos x1 , x2 , x3 , x4 ."
   ]
  },
  {
   "cell_type": "code",
   "execution_count": 22,
   "metadata": {
    "colab": {
     "base_uri": "https://localhost:8080/"
    },
    "id": "bNSUdbSluXDR",
    "outputId": "8e3776dc-ef88-4ad0-a8f6-2e51faf221b5"
   },
   "outputs": [
    {
     "data": {
      "text/plain": [
       "{'error_rate': {'mean': 0.031355125357029515,\n",
       "  'conf_interv': (0.030658313595684033, 0.032051937118375)},\n",
       " 'precision': {'mean': 0.9526015539621401,\n",
       "  'conf_interv': (0.9515869902868981, 0.9536161176373821)},\n",
       " 'recall': {'mean': 0.978688524590164,\n",
       "  'conf_interv': (0.9778240944074755, 0.9795529547728524)},\n",
       " 'f1': {'mean': 0.9652927751515585,\n",
       "  'conf_interv': (0.9645331140687933, 0.9660524362343238)}}"
      ]
     },
     "execution_count": 22,
     "metadata": {},
     "output_type": "execute_result"
    }
   ],
   "source": [
    "lr_v1 =LogisticRegression(random_state=0, solver='lbfgs', penalty='l2') # regularizaçao L2.\n",
    "cv_results_lr_v1 = cross_validate(lr_v1, X, y.values.ravel(), cv = 10, scoring=('accuracy', 'precision', 'recall', 'f1'))\n",
    "calculate_metrics(cv_results_lr_v1)"
   ]
  },
  {
   "cell_type": "markdown",
   "metadata": {
    "id": "qCrpHRB_uaFG"
   },
   "source": [
    "## Item v) Classificador baseado regressão logísitica (v2):\n",
    "\n",
    "Treine um classificador baseado em regressão logistica com os 4 atributos numericos x1 , x2 , x3 , x4 originais e mais 4 atributos suplementares x5 = x1**2 , x6 = math.sqrt(x2) , x7 = math.log(x3), x8 = 1/x4 . Use regularização. 4\n",
    "Use conjunto de validação para fixar o parâmetro de regularização."
   ]
  },
  {
   "cell_type": "code",
   "execution_count": 23,
   "metadata": {
    "id": "EUe0TaG-JsrZ"
   },
   "outputs": [],
   "source": [
    "# Função que cria as novas colunas e faz o restante do preprocessamento dos dados:\n",
    "def preprocess(X):\n",
    "  newX = X.copy(deep=True)\n",
    "  newX['x5'] = df.apply(lambda row: row.x1**2, axis=1)\n",
    "  newX['x6'] = df.apply(lambda row: row.x2**(1/2), axis=1)   \n",
    "  newX['x7'] = df.apply(lambda row: math.log(row.x3), axis=1)\n",
    "  newX['x8'] = df.apply(lambda row: 1/row.x4, axis=1)\n",
    "\n",
    "  scaler = MinMaxScaler(feature_range=(0.00001, 1.00001))\n",
    "  newX[['x5','x6', 'x7', 'x8']] = scaler.fit_transform(newX[['x5','x6', 'x7', 'x8']])\n",
    "  # Imputando média em lugar de valores faltantes (se houver):\n",
    "  imp_mean = SimpleImputer(missing_values=np.nan, strategy='mean')\n",
    "  newX[['x5','x6', 'x7', 'x8']] = imp_mean.fit_transform(newX[['x5','x6', 'x7', 'x8']])\n",
    "  return newX"
   ]
  },
  {
   "cell_type": "code",
   "execution_count": 24,
   "metadata": {
    "colab": {
     "base_uri": "https://localhost:8080/",
     "height": 391
    },
    "id": "W1Re00_VFViu",
    "outputId": "7970e249-93cb-48ad-c084-884449065885"
   },
   "outputs": [
    {
     "data": {
      "text/html": [
       "<div>\n",
       "<style scoped>\n",
       "    .dataframe tbody tr th:only-of-type {\n",
       "        vertical-align: middle;\n",
       "    }\n",
       "\n",
       "    .dataframe tbody tr th {\n",
       "        vertical-align: top;\n",
       "    }\n",
       "\n",
       "    .dataframe thead th {\n",
       "        text-align: right;\n",
       "    }\n",
       "</style>\n",
       "<table border=\"1\" class=\"dataframe\">\n",
       "  <thead>\n",
       "    <tr style=\"text-align: right;\">\n",
       "      <th></th>\n",
       "      <th>x1</th>\n",
       "      <th>x2</th>\n",
       "      <th>x3</th>\n",
       "      <th>x4</th>\n",
       "      <th>x5</th>\n",
       "      <th>x6</th>\n",
       "      <th>x7</th>\n",
       "      <th>x8</th>\n",
       "    </tr>\n",
       "  </thead>\n",
       "  <tbody>\n",
       "    <tr>\n",
       "      <th>0</th>\n",
       "      <td>0.769014</td>\n",
       "      <td>0.839653</td>\n",
       "      <td>0.106793</td>\n",
       "      <td>0.736638</td>\n",
       "      <td>0.591381</td>\n",
       "      <td>0.916066</td>\n",
       "      <td>0.805718</td>\n",
       "      <td>0.000014</td>\n",
       "    </tr>\n",
       "    <tr>\n",
       "      <th>1</th>\n",
       "      <td>0.835669</td>\n",
       "      <td>0.820992</td>\n",
       "      <td>0.121814</td>\n",
       "      <td>0.644336</td>\n",
       "      <td>0.698339</td>\n",
       "      <td>0.905794</td>\n",
       "      <td>0.817149</td>\n",
       "      <td>0.000016</td>\n",
       "    </tr>\n",
       "    <tr>\n",
       "      <th>2</th>\n",
       "      <td>0.786639</td>\n",
       "      <td>0.416658</td>\n",
       "      <td>0.310618</td>\n",
       "      <td>0.786961</td>\n",
       "      <td>0.618798</td>\n",
       "      <td>0.644373</td>\n",
       "      <td>0.898455</td>\n",
       "      <td>0.000013</td>\n",
       "    </tr>\n",
       "    <tr>\n",
       "      <th>3</th>\n",
       "      <td>0.757115</td>\n",
       "      <td>0.871709</td>\n",
       "      <td>0.054931</td>\n",
       "      <td>0.450450</td>\n",
       "      <td>0.573222</td>\n",
       "      <td>0.933449</td>\n",
       "      <td>0.747972</td>\n",
       "      <td>0.000022</td>\n",
       "    </tr>\n",
       "    <tr>\n",
       "      <th>4</th>\n",
       "      <td>0.531588</td>\n",
       "      <td>0.348672</td>\n",
       "      <td>0.424672</td>\n",
       "      <td>0.687372</td>\n",
       "      <td>0.282590</td>\n",
       "      <td>0.589193</td>\n",
       "      <td>0.925620</td>\n",
       "      <td>0.000015</td>\n",
       "    </tr>\n",
       "    <tr>\n",
       "      <th>...</th>\n",
       "      <td>...</td>\n",
       "      <td>...</td>\n",
       "      <td>...</td>\n",
       "      <td>...</td>\n",
       "      <td>...</td>\n",
       "      <td>...</td>\n",
       "      <td>...</td>\n",
       "      <td>...</td>\n",
       "    </tr>\n",
       "    <tr>\n",
       "      <th>1367</th>\n",
       "      <td>0.537134</td>\n",
       "      <td>0.565865</td>\n",
       "      <td>0.165259</td>\n",
       "      <td>0.726408</td>\n",
       "      <td>0.288517</td>\n",
       "      <td>0.751460</td>\n",
       "      <td>0.843642</td>\n",
       "      <td>0.000014</td>\n",
       "    </tr>\n",
       "    <tr>\n",
       "      <th>1368</th>\n",
       "      <td>0.407700</td>\n",
       "      <td>0.332878</td>\n",
       "      <td>0.506763</td>\n",
       "      <td>0.808360</td>\n",
       "      <td>0.166226</td>\n",
       "      <td>0.575621</td>\n",
       "      <td>0.940970</td>\n",
       "      <td>0.000012</td>\n",
       "    </tr>\n",
       "    <tr>\n",
       "      <th>1369</th>\n",
       "      <td>0.237395</td>\n",
       "      <td>0.011778</td>\n",
       "      <td>0.985613</td>\n",
       "      <td>0.524765</td>\n",
       "      <td>0.056365</td>\n",
       "      <td>0.105709</td>\n",
       "      <td>0.998750</td>\n",
       "      <td>0.000019</td>\n",
       "    </tr>\n",
       "    <tr>\n",
       "      <th>1370</th>\n",
       "      <td>0.250852</td>\n",
       "      <td>0.201711</td>\n",
       "      <td>0.761597</td>\n",
       "      <td>0.660685</td>\n",
       "      <td>0.062935</td>\n",
       "      <td>0.447383</td>\n",
       "      <td>0.976354</td>\n",
       "      <td>0.000015</td>\n",
       "    </tr>\n",
       "    <tr>\n",
       "      <th>1371</th>\n",
       "      <td>0.324538</td>\n",
       "      <td>0.490757</td>\n",
       "      <td>0.343358</td>\n",
       "      <td>0.885959</td>\n",
       "      <td>0.105333</td>\n",
       "      <td>0.699597</td>\n",
       "      <td>0.907159</td>\n",
       "      <td>0.000011</td>\n",
       "    </tr>\n",
       "  </tbody>\n",
       "</table>\n",
       "<p>1372 rows × 8 columns</p>\n",
       "</div>"
      ],
      "text/plain": [
       "            x1        x2        x3        x4        x5        x6        x7  \\\n",
       "0     0.769014  0.839653  0.106793  0.736638  0.591381  0.916066  0.805718   \n",
       "1     0.835669  0.820992  0.121814  0.644336  0.698339  0.905794  0.817149   \n",
       "2     0.786639  0.416658  0.310618  0.786961  0.618798  0.644373  0.898455   \n",
       "3     0.757115  0.871709  0.054931  0.450450  0.573222  0.933449  0.747972   \n",
       "4     0.531588  0.348672  0.424672  0.687372  0.282590  0.589193  0.925620   \n",
       "...        ...       ...       ...       ...       ...       ...       ...   \n",
       "1367  0.537134  0.565865  0.165259  0.726408  0.288517  0.751460  0.843642   \n",
       "1368  0.407700  0.332878  0.506763  0.808360  0.166226  0.575621  0.940970   \n",
       "1369  0.237395  0.011778  0.985613  0.524765  0.056365  0.105709  0.998750   \n",
       "1370  0.250852  0.201711  0.761597  0.660685  0.062935  0.447383  0.976354   \n",
       "1371  0.324538  0.490757  0.343358  0.885959  0.105333  0.699597  0.907159   \n",
       "\n",
       "            x8  \n",
       "0     0.000014  \n",
       "1     0.000016  \n",
       "2     0.000013  \n",
       "3     0.000022  \n",
       "4     0.000015  \n",
       "...        ...  \n",
       "1367  0.000014  \n",
       "1368  0.000012  \n",
       "1369  0.000019  \n",
       "1370  0.000015  \n",
       "1371  0.000011  \n",
       "\n",
       "[1372 rows x 8 columns]"
      ]
     },
     "execution_count": 24,
     "metadata": {},
     "output_type": "execute_result"
    }
   ],
   "source": [
    "newX = preprocess(X)\n",
    "newX"
   ]
  },
  {
   "cell_type": "code",
   "execution_count": 25,
   "metadata": {
    "colab": {
     "base_uri": "https://localhost:8080/"
    },
    "id": "mUsUuezmpQ06",
    "outputId": "eb5048cf-d192-4c0e-e171-323e2842cb84"
   },
   "outputs": [
    {
     "name": "stdout",
     "output_type": "stream",
     "text": [
      "{'C': 0.9}\n"
     ]
    }
   ],
   "source": [
    "lr_v2 = LogisticRegression()\n",
    "train_val_x, test_x, train_val_y, test_y = train_test_split(X,y)\n",
    "#20% para validação da parte do conjunto de treino\n",
    "train_x, val_x, train_y, val_y = train_test_split(train_val_x, train_val_y, test_size=0.2)\n",
    "param_grid = [{'C': [0.001, 0.008, 0.1, 0.5, 0.6, 0.7, 0.8, 0.9, 1.0, 1.1, 1.2, 1.3, 1.4, 1.5]}]\n",
    "#GridSearchCV, permite encontrar o melhor c da lista\n",
    "classifier = GridSearchCV(lr_v2, param_grid, cv=10)\n",
    "#ajustando o hiperparametro no conjunto de validacao\n",
    "classifier.fit(val_x, val_y.values.ravel())\n",
    "#print(classifier.best_estimator_)\n",
    "#encontrando o melhor C\n",
    "print(classifier.best_params_)\n",
    "best_C = classifier.best_params_['C']\n",
    "#plot\n",
    "results = classifier.cv_results_"
   ]
  },
  {
   "cell_type": "code",
   "execution_count": 26,
   "metadata": {
    "colab": {
     "base_uri": "https://localhost:8080/"
    },
    "id": "HNgnUOlX_1bx",
    "outputId": "21cea6f8-0d74-4501-94bb-ffabe11fedfe"
   },
   "outputs": [
    {
     "data": {
      "text/plain": [
       "{'error_rate': {'mean': 0.027710779646673,\n",
       "  'conf_interv': (0.027033281253316978, 0.028388278040029025)},\n",
       " 'precision': {'mean': 0.9518137765236077,\n",
       "  'conf_interv': (0.9506698289066732, 0.9529577241405421)},\n",
       " 'recall': {'mean': 0.9885245901639343,\n",
       "  'conf_interv': (0.9877929777718133, 0.9892562025560554)},\n",
       " 'f1': {'mean': 0.9695857711175246,\n",
       "  'conf_interv': (0.9688612462616109, 0.9703102959734384)}}"
      ]
     },
     "execution_count": 26,
     "metadata": {},
     "output_type": "execute_result"
    }
   ],
   "source": [
    "lr_v2 =LogisticRegression(C = best_C, random_state=0, max_iter=1000, solver='lbfgs', penalty='l2') #Regularização L2\n",
    "cv_results_lr_v2 = cross_validate(lr_v2, newX, y.values.ravel(), cv = 10, scoring=('accuracy', 'precision', 'recall', 'f1'))\n",
    "calculate_metrics(cv_results_lr_v2)"
   ]
  },
  {
   "cell_type": "markdown",
   "metadata": {
    "id": "cdEm6l60etKY"
   },
   "source": [
    "## Item vi) Classificador usando a regra do voto majoritario:\n",
    "\n",
    "Treine um classificador usando a regra do voto majoritario usando os classificadores i) a v).\n",
    "\n",
    "\n"
   ]
  },
  {
   "cell_type": "markdown",
   "metadata": {
    "id": "ocwjLbh6JkhI"
   },
   "source": [
    "Inicialmente vamos separar os 10 folds de maneira estratificada. Faremos isso para X (4 colunas) e para newX (8 colunas)."
   ]
  },
  {
   "cell_type": "code",
   "execution_count": 27,
   "metadata": {
    "id": "T2uX9RcISLvN"
   },
   "outputs": [],
   "source": [
    "skf = StratifiedKFold(n_splits=10, shuffle=False)\n",
    "folds = [] #Levando em conta a variável X\n",
    "for train_indices, test_indices in skf.split(X, y):\n",
    "  #print(\"TRAIN:\", train_indices, \"TEST:\", test_indices)\n",
    "  X_train, X_test = X.loc[train_indices,:], X.loc[test_indices,:]\n",
    "  y_train, y_test = y.loc[train_indices,:], y.loc[test_indices,:]\n",
    "  this_fold = {'train': {'X':X_train, 'y': y_train}, 'test': {'X':X_test, 'y': y_test}}\n",
    "  #print(len(y_train), len(y_test))\n",
    "  folds.append(this_fold)\n",
    "\n",
    "folds_mod = [] #Levando em conta a variável newX\n",
    "for train_indices, test_indices in skf.split(newX, y):\n",
    "  #print(\"TRAIN:\", train_indices, \"TEST:\", test_indices)\n",
    "  X_train, X_test = newX.loc[train_indices,:], newX.loc[test_indices,:]\n",
    "  y_train, y_test = y.loc[train_indices,:], y.loc[test_indices,:]\n",
    "  this_fold = {'train': {'X':X_train, 'y': y_train}, 'test': {'X':X_test, 'y': y_test}}\n",
    "  folds_mod.append(this_fold)"
   ]
  },
  {
   "cell_type": "code",
   "execution_count": 28,
   "metadata": {
    "id": "xSL850pMVcbC"
   },
   "outputs": [],
   "source": [
    "#folds_mod[0]['test']['X']"
   ]
  },
  {
   "cell_type": "markdown",
   "metadata": {
    "id": "TOKoYnlRkmGr"
   },
   "source": [
    "Agora, vamos executar a validação cruzada com 10-folds, e para cada fold, executaremos cada um dos modelos no ensemble e combinaremos suas predições por voto majoritário."
   ]
  },
  {
   "cell_type": "code",
   "execution_count": 29,
   "metadata": {
    "id": "AAZ2xkDoWNt7"
   },
   "outputs": [],
   "source": [
    "models = [('gbc', gbc), ('knn', knn), ('nbparzem', nbparzem), ('lr_v1', lr_v1), ('lr_v2', lr_v2)]\n",
    "\n",
    "cv_results_ensemble = {'test_accuracy':[], 'test_precision': [],\n",
    "                       'test_recall':[], 'test_f1': []}\n",
    "for i in range(10): # 10-folds cv\n",
    "  y_preds_fold = [] # Aqui armazenarei os y_pred de todos os modelos para depois combinar\n",
    "  for name, model in models:\n",
    "    if name != 'lr_v2':\n",
    "      folds_list = folds\n",
    "    else:\n",
    "      folds_list = folds_mod\n",
    "    X_train = folds_list[i]['train']['X']\n",
    "    y_train = folds_list[i]['train']['y']\n",
    "    X_test = folds_list[i]['test']['X']\n",
    "    y_test = folds_list[i]['test']['y']\n",
    "\n",
    "    # Treina esse modelo:\n",
    "    model.fit(X_train, y_train.values.ravel())\n",
    "    # Testa este modelo e obtém suas predições no conjunto de teste:\n",
    "    y_pred = model.predict(X_test)\n",
    "    # Armazena as predições desse modelo na lista do fold corrente:\n",
    "    y_preds_fold.append(y_pred)\n",
    "\n",
    "  # Agora vamos combinar as predições deste fold por voto majoritário e gerar as\n",
    "  # predições do ensemble inteiro:\n",
    "  y_pred_ensemble = np.zeros(len(y_pred))\n",
    "  for i in range(len(y_pred)): \n",
    "    this_pred_count = 0 # Vou somar as predições dessa instância. \n",
    "    for y_pred in y_preds_fold:\n",
    "      this_pred_count += y_pred[i]\n",
    "    if this_pred_count >= len(models)/2: #Se a maioria dos votos for \"1\"...\n",
    "      y_pred_ensemble[i] = 1\n",
    "  # Agora vou calcular as métricas do ensemble com base em suas predições neste fold\n",
    "  # e em seguida armazena-la em cv_results_ensemble\n",
    "  test_acc = accuracy_score(y_test, y_pred_ensemble)\n",
    "  cv_results_ensemble['test_accuracy'].append(test_acc)\n",
    "  test_prec = precision_score(y_test, y_pred_ensemble)\n",
    "  cv_results_ensemble['test_precision'].append(test_prec)\n",
    "  test_rec = recall_score(y_test, y_pred_ensemble)\n",
    "  cv_results_ensemble['test_recall'].append(test_rec)\n",
    "  test_f1 = f1_score(y_test, y_pred_ensemble)\n",
    "  cv_results_ensemble['test_f1'].append(test_f1)\n"
   ]
  },
  {
   "cell_type": "code",
   "execution_count": 30,
   "metadata": {
    "colab": {
     "base_uri": "https://localhost:8080/"
    },
    "id": "nykcMcTUXGip",
    "outputId": "0cb77c1f-8c8a-4037-9db8-ebc129da2e5f"
   },
   "outputs": [
    {
     "data": {
      "text/plain": [
       "{'error_rate': {'mean': 0.025515709298635336,\n",
       "  'conf_interv': (0.024801544463587705, 0.026229874133682968)},\n",
       " 'precision': {'mean': 0.9656667703878661,\n",
       "  'conf_interv': (0.9642767883826577, 0.9670567523930744)},\n",
       " 'recall': {'mean': 0.978688524590164,\n",
       "  'conf_interv': (0.9778240944074755, 0.9795529547728524)},\n",
       " 'f1': {'mean': 0.9717071632155312,\n",
       "  'conf_interv': (0.9709455513972816, 0.9724687750337808)}}"
      ]
     },
     "execution_count": 30,
     "metadata": {},
     "output_type": "execute_result"
    }
   ],
   "source": [
    "calculate_metrics(cv_results_ensemble)"
   ]
  },
  {
   "cell_type": "markdown",
   "metadata": {
    "id": "lSO1TMGqzbU8"
   },
   "source": [
    "## Curvas de aprendizado\n",
    "\n",
    "As curvas de aprendizado nos ajudam a visualizar quando um modelo está bem ajustado, sobreajustado ou subajustado."
   ]
  },
  {
   "cell_type": "code",
   "execution_count": 30,
   "metadata": {
    "id": "Ym05gcUUzS3V"
   },
   "outputs": [],
   "source": [
    "from sklearn.model_selection import learning_curve\n",
    "def plot_learning_curve(X, y, model, model_name):\n",
    "  train_sizes, train_scores, test_scores = learning_curve(model, \n",
    "                                                          X, \n",
    "                                                          y.values.ravel(),\n",
    "                                                          # Number of folds in cross-validation\n",
    "                                                          cv=10,\n",
    "                                                          # Evaluation metric\n",
    "                                                          scoring='f1',\n",
    "                                                          # Use all computer cores\n",
    "                                                          n_jobs=-1, \n",
    "                                                          # 50 different sizes of the training set\n",
    "                                                          train_sizes=np.linspace(0.01, 1.0, 50))\n",
    "\n",
    "  # Create means and standard deviations of training set scores\n",
    "  train_mean = np.mean(train_scores, axis=1)\n",
    "  train_std = np.std(train_scores, axis=1)\n",
    "\n",
    "  # Create means and standard deviations of test set scores\n",
    "  test_mean = np.mean(test_scores, axis=1)\n",
    "  test_std = np.std(test_scores, axis=1)\n",
    "\n",
    "  # Draw lines\n",
    "  plt.plot(train_sizes, train_mean, '--', color=\"#111111\",  label=\"Training score\")\n",
    "  plt.plot(train_sizes, test_mean, color=\"#111111\", label=\"Cross-validation score\")\n",
    "\n",
    "  # Draw bands\n",
    "  plt.fill_between(train_sizes, train_mean - train_std, train_mean + train_std, color=\"#DDDDDD\")\n",
    "  plt.fill_between(train_sizes, test_mean - test_std, test_mean + test_std, color=\"#DDDDDD\")\n",
    "\n",
    "  # Create plot\n",
    "  plt.title(f\"{model_name}\")\n",
    "  plt.xlabel(\"Tamanho do conjunto de treinamento\"), plt.ylabel(\"F-measure\"), plt.legend(loc=\"best\")\n",
    "  plt.tight_layout()\n",
    "  plt.show()"
   ]
  },
  {
   "cell_type": "code",
   "execution_count": 52,
   "metadata": {
    "colab": {
     "base_uri": "https://localhost:8080/",
     "height": 1000
    },
    "id": "dGe5APNa0Nk3",
    "outputId": "b6f96756-ce4c-437f-d9d0-73173afb99e9"
   },
   "outputs": [
    {
     "data": {
      "image/png": "[encoded data removed]",
      "text/plain": [
       "<Figure size 432x288 with 1 Axes>"
      ]
     },
     "metadata": {
      "needs_background": "light",
      "tags": []
     },
     "output_type": "display_data"
    },
    {
     "data": {
      "image/png": "[encoded data removed]",
      "text/plain": [
       "<Figure size 432x288 with 1 Axes>"
      ]
     },
     "metadata": {
      "needs_background": "light",
      "tags": []
     },
     "output_type": "display_data"
    },
    {
     "data": {
      "image/png": "[encoded data removed]",
      "text/plain": [
       "<Figure size 432x288 with 1 Axes>"
      ]
     },
     "metadata": {
      "needs_background": "light",
      "tags": []
     },
     "output_type": "display_data"
    },
    {
     "data": {
      "image/png": "[encoded data removed]",
      "text/plain": [
       "<Figure size 432x288 with 1 Axes>"
      ]
     },
     "metadata": {
      "needs_background": "light",
      "tags": []
     },
     "output_type": "display_data"
    },
    {
     "data": {
      "image/png": "[encoded data removed]",
      "text/plain": [
       "<Figure size 432x288 with 1 Axes>"
      ]
     },
     "metadata": {
      "needs_background": "light",
      "tags": []
     },
     "output_type": "display_data"
    }
   ],
   "source": [
    "models = [('gbc', gbc), ('knn', knn), ('nbparzem', nbparzem), ('lr_v1', lr_v1), ('lr_v2', lr_v2)]\n",
    "for name, model in models:\n",
    "  if name != 'lr_v2':\n",
    "    plot_learning_curve(X, y, model, name)\n",
    "  else:\n",
    "    plot_learning_curve(newX, y, model, name)\n",
    "plt.close('all')\n"
   ]
  },
  {
   "cell_type": "markdown",
   "metadata": {
    "id": "_9p8_VePmpi-"
   },
   "source": [
    "## Alguns plots para visualizar as métricas"
   ]
  },
  {
   "cell_type": "code",
   "execution_count": 35,
   "metadata": {
    "id": "gOx5wGKwoG-X"
   },
   "outputs": [],
   "source": [
    "# Defining a function for a custom barplot:\n",
    "def my_barplot(bars_dct, title):\n",
    "    # set width of bar\n",
    "    barWidth = 0.15\n",
    "\n",
    "    # set height of bar\n",
    "    bars_gbc = bars_dct['GBC']\n",
    "    bars_knn = bars_dct['KNN']\n",
    "    bars_nbparzen = bars_dct['NBParzen']\n",
    "    bars_lr_v1 = bars_dct['LR_V1']\n",
    "    bars_lr_v2 = bars_dct['LR_V2']\n",
    "    bars_ens = bars_dct['Ensemble']\n",
    "\n",
    "    # Set position of bar on X axis\n",
    "    r1 = np.arange(len(bars_gbc))\n",
    "    r2 = [x + barWidth for x in r1]\n",
    "    r3 = [x + barWidth for x in r2]\n",
    "    r4 = [x + barWidth for x in r3]\n",
    "    r5 = [x + barWidth for x in r4]\n",
    "    r6 = [x + barWidth for x in r5]\n",
    "\n",
    "    # Make the plot\n",
    "    plt.bar(r1, bars_gbc, width=barWidth, edgecolor='white', label='GBC')\n",
    "    plt.bar(r2, bars_knn, width=barWidth, edgecolor='white', label='KNN')\n",
    "    plt.bar(r3, bars_nbparzen, width=barWidth, edgecolor='white', label='NBParzen')\n",
    "    plt.bar(r4, bars_lr_v1, width=barWidth, edgecolor='white', label='LR_V1')\n",
    "    plt.bar(r5, bars_lr_v2, width=barWidth, edgecolor='white', label='LR_V2')\n",
    "    plt.bar(r6, bars_ens, width=barWidth, edgecolor='white', label='Ensemble')\n",
    "\n",
    "    # Size, titles and labels\n",
    "    #plt.figure(num=None, figsize=(18, 9), dpi=100, facecolor='w', edgecolor='k')\n",
    "    plt.title(title, size=22)\n",
    "    plt.xlabel('Métrica', fontsize=20)\n",
    "    plt.ylabel('Média', fontsize=20)\n",
    "\n",
    "    # Add xticks on the middle of the group bars\n",
    "    plt.xticks([r + 2.5*barWidth for r in range(len(bars_gbc))], ['Erro', 'Precisão', 'Cobertura', 'F-measure'])\n",
    "\n",
    "    # Create legend & Show graphic\n",
    "    plt.subplots_adjust(bottom=-0.0, top=1.5, right=2)\n",
    "    plt.legend()\n",
    "    plt.show()\n",
    "\n"
   ]
  },
  {
   "cell_type": "code",
   "execution_count": 36,
   "metadata": {
    "id": "eQVaEU5Nmu_i"
   },
   "outputs": [],
   "source": [
    "plt.style.use('seaborn-whitegrid')\n",
    "bars_dict = {'GBC':[], 'KNN': [], \n",
    "             'NBParzen': [], 'LR_V1': [], \n",
    "             'LR_V2': [], 'Ensemble': []}\n",
    "results_dict = {}\n",
    "results_dict['GBC'] = calculate_metrics(cv_results_gbc)\n",
    "results_dict['KNN'] = calculate_metrics(cv_results_knn)\n",
    "results_dict['NBParzen'] = calculate_metrics(cv_results_nbparzem)\n",
    "results_dict['LR_V1'] = calculate_metrics(cv_results_lr_v1)\n",
    "results_dict['LR_V2'] = calculate_metrics(cv_results_lr_v2)\n",
    "results_dict['Ensemble'] = calculate_metrics(cv_results_ensemble)\n",
    "\n",
    "for model_name in results_dict:\n",
    "  for metric_name in results_dict[model_name]:\n",
    "    metric = results_dict[model_name][metric_name]\n",
    "    bars_dict[model_name].append(metric['mean'])"
   ]
  },
  {
   "cell_type": "code",
   "execution_count": 37,
   "metadata": {
    "id": "9OLvYYolsQNg"
   },
   "outputs": [],
   "source": [
    "#bars_dict"
   ]
  },
  {
   "cell_type": "code",
   "execution_count": 38,
   "metadata": {
    "colab": {
     "base_uri": "https://localhost:8080/",
     "height": 522
    },
    "id": "fzN6YNLYstxt",
    "outputId": "52714106-3f4c-43a5-a372-03fda6702367"
   },
   "outputs": [
    {
     "data": {
      "image/png": "[encoded data removed]",
      "text/plain": [
       "<Figure size 432x288 with 1 Axes>"
      ]
     },
     "metadata": {},
     "output_type": "display_data"
    }
   ],
   "source": [
    "my_barplot(bars_dict, 'Média de cada métrica para os diferentes modelos')"
   ]
  },
  {
   "cell_type": "markdown",
   "metadata": {
    "id": "5hNqg_rUye76"
   },
   "source": [
    "## Teste de Friedman"
   ]
  },
  {
   "cell_type": "code",
   "execution_count": 50,
   "metadata": {
    "id": "HogoodX9Xp2F"
   },
   "outputs": [],
   "source": [
    "from scipy.stats import friedmanchisquare"
   ]
  },
  {
   "cell_type": "markdown",
   "metadata": {
    "id": "51Mt45luhV6p"
   },
   "source": [
    "#### Função que realiza o teste, dada uma métrica."
   ]
  },
  {
   "cell_type": "code",
   "execution_count": 58,
   "metadata": {
    "colab": {
     "base_uri": "https://localhost:8080/"
    },
    "id": "HWeVPlVdyxek",
    "outputId": "19474a56-6e8c-4d4b-87e8-d6a16d00ccfa"
   },
   "outputs": [],
   "source": [
    "#!pip install scikit_posthocs\n",
    "def test_significance(metric_name):\n",
    "  group_gbc = cv_results_gbc[metric_name]\n",
    "  group_knn = cv_results_knn[metric_name]\n",
    "  group_parzem = cv_results_nbparzem[metric_name]\n",
    "  group_lr_v1 = cv_results_lr_v1[metric_name]\n",
    "  group_lr_v2 = cv_results_lr_v2[metric_name]\n",
    "  group_ensemble = cv_results_ensemble[metric_name]\n",
    "\n",
    "  cols = ['x1','x2', 'x3', 'x4', 'x5', 'x6']\n",
    "  data = [group_gbc, group_knn, group_parzem, group_lr_v1, group_lr_v2, group_ensemble]\n",
    "  print(data)\n",
    "  stat, p = friedmanchisquare(*data)\n",
    "  print('Friedman=%.3f, p=%.3f' % (stat, p))\n",
    "  #Interpretação dos resultados\n",
    "  alpha = 0.05 #nível de significância\n",
    "  if p > alpha:\n",
    "    print(\"Não há diferença significativa no desempenho dos classsificadores\")\n",
    "  else:\n",
    "    print(\"Há diferença significativa (rejeita H0) no desempenho dos classsificadores\")\n",
    "\n",
    "  #If the null-hypothesis is rejected, we can proceed with a post-hoc test.(Artigo)\n",
    "  #para realmente saber quais dos classificadores são diferentes, \n",
    "  #usar o nemenyi post hoc\n",
    "\n",
    "  import scikit_posthocs as sp\n",
    "  teste = sp.posthoc_nemenyi(data)\n",
    "  print(teste)\n",
    "  def plot(scores): #fica melhor a visualização para apresentação\n",
    "    #Pretty plot of significance\n",
    "    heatmap_args = {'linewidths': 0.25, 'linecolor': '0.1', 'square': True,\n",
    "                     'cbar_ax_bbox': [0.80, 0.35, 0.04, 0.3]}\n",
    "    sp.sign_plot(scores, **heatmap_args)\n",
    "    plot(teste)"
   ]
  },
  {
   "cell_type": "markdown",
   "metadata": {
    "id": "scAXrHSkhmGA"
   },
   "source": [
    "#### Comparando a métrica Accuracy"
   ]
  },
  {
   "cell_type": "code",
   "execution_count": 59,
   "metadata": {
    "colab": {
     "base_uri": "https://localhost:8080/",
     "height": 707
    },
    "id": "4rbx--0GjdDU",
    "outputId": "0d0a8d2f-bed2-43c9-888e-c07f4e4c8ae7"
   },
   "outputs": [
    {
     "name": "stdout",
     "output_type": "stream",
     "text": [
      "[array([0.84057971, 0.85507246, 0.80291971, 0.81021898, 0.82481752,\n",
      "       0.83211679, 0.86131387, 0.86861314, 0.86861314, 0.81751825]), array([1.        , 1.        , 1.        , 1.        , 0.99270073,\n",
      "       1.        , 1.        , 1.        , 1.        , 0.99270073]), array([0.85507246, 0.86956522, 0.7810219 , 0.83211679, 0.80291971,\n",
      "       0.80291971, 0.88321168, 0.88321168, 0.89051095, 0.81021898]), array([0.97826087, 0.97826087, 0.94890511, 0.97810219, 0.94160584,\n",
      "       0.96350365, 0.97810219, 0.98540146, 0.98540146, 0.94890511]), array([0.98550725, 0.97826087, 0.94890511, 0.97810219, 0.94160584,\n",
      "       0.97080292, 0.98540146, 0.98540146, 0.98540146, 0.96350365]), [0.9782608695652174, 0.9782608695652174, 0.9635036496350365, 0.9854014598540146, 0.9343065693430657, 0.9781021897810219, 0.9927007299270073, 0.9854014598540146, 0.9854014598540146, 0.9635036496350365]]\n",
      "Friedman=45.886, p=0.000\n",
      "Há diferença significativa (rejeita H0) no desempenho dos classsificadores\n",
      "          1         2         3         4         5         6\n",
      "1  1.000000  0.000003  1.000000  0.115571  0.049258  0.033829\n",
      "2  0.000003  1.000000  0.000004  0.153105  0.292366  0.361857\n",
      "3  1.000000  0.000004  1.000000  0.139731  0.061822  0.043081\n",
      "4  0.115571  0.153105  0.139731  1.000000  0.999694  0.998466\n",
      "5  0.049258  0.292366  0.061822  0.999694  1.000000  0.999997\n",
      "6  0.033829  0.361857  0.043081  0.998466  0.999997  1.000000\n"
     ]
    }
   ],
   "source": [
    "test_significance('test_accuracy')"
   ]
  },
  {
   "cell_type": "markdown",
   "metadata": {
    "id": "_neNsglRhxtC"
   },
   "source": [
    "#### Comparando a métrica Precision"
   ]
  },
  {
   "cell_type": "code",
   "execution_count": null,
   "metadata": {
    "colab": {
     "base_uri": "https://localhost:8080/",
     "height": 574
    },
    "id": "iPU1JoIsjxBr",
    "outputId": "2e4334d3-6f71-4155-e0a7-ccf28a449fa7"
   },
   "outputs": [
    {
     "name": "stdout",
     "output_type": "stream",
     "text": [
      "Friedman=46.084, p=0.000\n",
      "Há diferença significativa (rejeita H0) no desempenho dos classsificadores\n",
      "          1         2         3         4         5         6\n",
      "1  1.000000  0.000002  0.999088  0.082416  0.045757  0.007197\n",
      "2  0.000002  1.000000  0.000021  0.188514  0.285497  0.623670\n",
      "3  0.999088  0.000021  1.000000  0.209802  0.131828  0.028587\n",
      "4  0.082416  0.188514  0.209802  1.000000  0.999960  0.980599\n",
      "5  0.045757  0.285497  0.131828  0.999960  1.000000  0.995636\n",
      "6  0.007197  0.623670  0.028587  0.980599  0.995636  1.000000\n",
      "     1    2    3    4    5    6\n",
      "1 -1.0  1.0  0.0  0.0  3.0  2.0\n",
      "2  1.0 -1.0  1.0  0.0  0.0  0.0\n",
      "3  0.0  1.0 -1.0  0.0  0.0  3.0\n",
      "4  0.0  0.0  0.0 -1.0  0.0  0.0\n",
      "5  3.0  0.0  0.0  0.0 -1.0  0.0\n",
      "6  2.0  0.0  3.0  0.0  0.0 -1.0\n",
      "-----------\n"
     ]
    },
    {
     "data": {
      "image/png": "[encoded data removed]",
      "text/plain": [
       "<Figure size 432x288 with 2 Axes>"
      ]
     },
     "metadata": {
      "tags": []
     },
     "output_type": "display_data"
    }
   ],
   "source": [
    "test_significance('test_precision')"
   ]
  },
  {
   "cell_type": "markdown",
   "metadata": {
    "id": "JD6z91gzhy4O"
   },
   "source": [
    "#### Comparando a métrica Recall"
   ]
  },
  {
   "cell_type": "code",
   "execution_count": null,
   "metadata": {
    "colab": {
     "base_uri": "https://localhost:8080/",
     "height": 574
    },
    "id": "fd4yxIN1j0a6",
    "outputId": "b9272918-b513-47d4-e813-88071e784e1a"
   },
   "outputs": [
    {
     "name": "stdout",
     "output_type": "stream",
     "text": [
      "Friedman=45.266, p=0.000\n",
      "Há diferença significativa (rejeita H0) no desempenho dos classsificadores\n",
      "          1         2         3         4         5         6\n",
      "1  1.000000  0.000097  0.999999  0.064036  0.005996  0.064036\n",
      "2  0.000097  1.000000  0.000056  0.634212  0.955511  0.634212\n",
      "3  0.999999  0.000056  1.000000  0.047452  0.003983  0.047452\n",
      "4  0.064036  0.634212  0.047452  1.000000  0.985249  1.000000\n",
      "5  0.005996  0.955511  0.003983  0.985249  1.000000  0.985249\n",
      "6  0.064036  0.634212  0.047452  1.000000  0.985249  1.000000\n",
      "     1    2    3    4    5    6\n",
      "1 -1.0  1.0  0.0  0.0  2.0  0.0\n",
      "2  1.0 -1.0  1.0  0.0  0.0  0.0\n",
      "3  0.0  1.0 -1.0  3.0  2.0  3.0\n",
      "4  0.0  0.0  3.0 -1.0  0.0  0.0\n",
      "5  2.0  0.0  2.0  0.0 -1.0  0.0\n",
      "6  0.0  0.0  3.0  0.0  0.0 -1.0\n",
      "-----------\n"
     ]
    },
    {
     "data": {
      "image/png": "[encoded data removed]",
      "text/plain": [
       "<Figure size 432x288 with 2 Axes>"
      ]
     },
     "metadata": {
      "tags": []
     },
     "output_type": "display_data"
    }
   ],
   "source": [
    "test_significance('test_recall')"
   ]
  },
  {
   "cell_type": "markdown",
   "metadata": {
    "id": "-t5fGv0AjXRW"
   },
   "source": [
    "#### Comparando a métrica F1"
   ]
  },
  {
   "cell_type": "code",
   "execution_count": null,
   "metadata": {
    "colab": {
     "base_uri": "https://localhost:8080/",
     "height": 574
    },
    "id": "whFh32jHjWvm",
    "outputId": "1cae768c-cade-45bc-903d-ecc8f3008883"
   },
   "outputs": [
    {
     "name": "stdout",
     "output_type": "stream",
     "text": [
      "Friedman=46.108, p=0.000\n",
      "Há diferença significativa (rejeita H0) no desempenho dos classsificadores\n",
      "          1         2         3         4         5         6\n",
      "1  1.000000  0.000003  1.000000  0.124060  0.043205  0.045446\n",
      "2  0.000003  1.000000  0.000003  0.147540  0.323422  0.314050\n",
      "3  1.000000  0.000003  1.000000  0.134528  0.047782  0.050218\n",
      "4  0.124060  0.147540  0.134528  1.000000  0.999154  0.999318\n",
      "5  0.043205  0.323422  0.047782  0.999154  1.000000  1.000000\n",
      "6  0.045446  0.314050  0.050218  0.999318  1.000000  1.000000\n",
      "     1    2    3    4    5    6\n",
      "1 -1.0  1.0  0.0  0.0  3.0  3.0\n",
      "2  1.0 -1.0  1.0  0.0  0.0  0.0\n",
      "3  0.0  1.0 -1.0  0.0  3.0  0.0\n",
      "4  0.0  0.0  0.0 -1.0  0.0  0.0\n",
      "5  3.0  0.0  3.0  0.0 -1.0  0.0\n",
      "6  3.0  0.0  0.0  0.0  0.0 -1.0\n",
      "-----------\n"
     ]
    },
    {
     "data": {
      "image/png": "[encoded data removed]",
      "text/plain": [
       "<Figure size 432x288 with 2 Axes>"
      ]
     },
     "metadata": {
      "tags": []
     },
     "output_type": "display_data"
    }
   ],
   "source": [
    "test_significance('test_f1')"
   ]
  }
 ],
 "metadata": {
  "colab": {
   "collapsed_sections": [],
   "name": "Questao2AM.ipynb",
   "provenance": []
  },
  "kernelspec": {
   "display_name": "Python 3",
   "language": "python",
   "name": "python3"
  },
  "language_info": {
   "codemirror_mode": {
    "name": "ipython",
    "version": 3
   },
   "file_extension": ".py",
   "mimetype": "text/x-python",
   "name": "python",
   "nbconvert_exporter": "python",
   "pygments_lexer": "ipython3",
   "version": "3.8.3"
  }
 },
 "nbformat": 4,
 "nbformat_minor": 4
}
